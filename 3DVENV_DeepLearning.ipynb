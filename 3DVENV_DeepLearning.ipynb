{
  "cells": [
    {
      "cell_type": "code",
      "execution_count": null,
      "metadata": {
        "colab": {
          "base_uri": "https://localhost:8080/"
        },
        "id": "OT8Qclqom9jn",
        "outputId": "15895d81-3f06-4759-ceed-beefee51e5df"
      },
      "outputs": [
        {
          "output_type": "stream",
          "name": "stdout",
          "text": [
            "--2023-12-27 21:33:52--  https://raw.githubusercontent.com/KenoLeon/3DVEnv_DL/46b721f0e5a7c853a69854e93091965b6caa4cf7/static/dataset.tar.gz\n",
            "Resolving raw.githubusercontent.com (raw.githubusercontent.com)... 185.199.108.133, 185.199.110.133, 185.199.109.133, ...\n",
            "Connecting to raw.githubusercontent.com (raw.githubusercontent.com)|185.199.108.133|:443... connected.\n",
            "HTTP request sent, awaiting response... 200 OK\n",
            "Length: 152086 (149K) [application/octet-stream]\n",
            "Saving to: ‘dataset.tar.gz’\n",
            "\n",
            "dataset.tar.gz      100%[===================>] 148.52K  --.-KB/s    in 0.009s  \n",
            "\n",
            "2023-12-27 21:33:53 (16.9 MB/s) - ‘dataset.tar.gz’ saved [152086/152086]\n",
            "\n"
          ]
        }
      ],
      "source": [
        "!wget https://raw.githubusercontent.com/KenoLeon/3DVEnv_DL/46b721f0e5a7c853a69854e93091965b6caa4cf7/static/dataset.tar.gz\n",
        "\n",
        "!tar -xf dataset.tar.gz"
      ]
    },
    {
      "cell_type": "code",
      "execution_count": null,
      "metadata": {
        "colab": {
          "base_uri": "https://localhost:8080/",
          "height": 807
        },
        "id": "F6lQJ0P_4V1F",
        "outputId": "09b324ab-cd04-4f5f-dd7d-1013ca59efa5"
      },
      "outputs": [
        {
          "name": "stdout",
          "output_type": "stream",
          "text": [
            "Found 416 files belonging to 2 classes.\n",
            "Class Names: ['0', '1']\n"
          ]
        },
        {
          "data": {
            "image/png": "[encoded data removed]",
            "text/plain": [
              "<Figure size 1000x1000 with 9 Axes>"
            ]
          },
          "metadata": {},
          "output_type": "display_data"
        }
      ],
      "source": [
        "# MAKE DATASET FROM FOLDERS\n",
        "import tensorflow as tf\n",
        "\n",
        "# Define the path to your dataset folder\n",
        "dataset_path = '/content/dataset'\n",
        "\n",
        "# Create a dataset using the image_dataset_from_directory function\n",
        "dataset = tf.keras.utils.image_dataset_from_directory(\n",
        "    dataset_path,\n",
        "    labels='inferred',  # Automatically infer labels from subdirectory names\n",
        "    label_mode='categorical',  # You can change this depending on your task\n",
        "    batch_size=32,  # Adjust the batch size as needed\n",
        "    # image_size=(600, 800),  # Adjust the image size as needed\n",
        "    image_size=(150, 200),  # Adjust the image size as needed\n",
        "    shuffle=True,  # Shuffle the dataset\n",
        "    seed=42  # Set a seed for reproducibility\n",
        ")\n",
        "\n",
        "# Display the class names\n",
        "class_names = dataset.class_names\n",
        "print(\"Class Names:\", class_names)\n",
        "\n",
        "\n",
        "# Visualize a few images from the dataset\n",
        "import matplotlib.pyplot as plt\n",
        "\n",
        "plt.figure(figsize=(10, 10))\n",
        "for images, labels in dataset.take(1):\n",
        "    for i in range(9):\n",
        "        ax = plt.subplot(3, 3, i + 1)\n",
        "        plt.imshow(images[i].numpy().astype(\"uint8\"))\n",
        "        plt.title(class_names[tf.argmax(labels[i])])\n",
        "        plt.axis(\"off\")\n",
        "plt.show()\n",
        "\n"
      ]
    },
    {
      "cell_type": "code",
      "execution_count": null,
      "metadata": {
        "id": "9E2FKiW5dLSY"
      },
      "outputs": [],
      "source": [
        "# AUGMENT THE DATASET\n",
        "import os\n",
        "from PIL import Image, ImageEnhance, ImageOps\n",
        "import random\n",
        "\n",
        "# Define the path to your dataset folder\n",
        "dataset_path = '/content/dataset'\n",
        "\n",
        "# Define an array of labels\n",
        "labels = ['0', '1']\n",
        "\n",
        "# Loop over each label\n",
        "for label in labels:\n",
        "    subdirectory_path = os.path.join(dataset_path, label)\n",
        "\n",
        "    # Perform data augmentation on images in the subdirectory\n",
        "    for filename in os.listdir(subdirectory_path):\n",
        "        if filename.endswith(\".png\"):\n",
        "            image_path = os.path.join(subdirectory_path, filename)\n",
        "            img = Image.open(image_path)\n",
        "\n",
        "            # 1. Flip horizontally\n",
        "            flipped_img = ImageOps.mirror(img)\n",
        "            flipped_img.save(os.path.join(subdirectory_path, f'aug_flip_{filename}'))\n",
        "\n",
        "            # 2. Random zoom\n",
        "            zoom_factor = random.uniform(1, 1.5)\n",
        "            zoomed_img = img.resize((int(img.width * zoom_factor), int(img.height * zoom_factor)))\n",
        "            zoomed_img.save(os.path.join(subdirectory_path, f'aug_zoom_{filename}'))\n",
        "\n",
        "            # 3. Random rotation\n",
        "            rotation_angle = random.uniform(-45, 45)  # You can adjust the rotation range as needed\n",
        "            rotated_img = img.rotate(rotation_angle)\n",
        "            rotated_img.save(os.path.join(subdirectory_path, f'aug_rot_{filename}'))\n"
      ]
    },
    {
      "cell_type": "code",
      "execution_count": null,
      "metadata": {
        "colab": {
          "base_uri": "https://localhost:8080/",
          "height": 1000
        },
        "id": "lJvmxh5mfCIz",
        "outputId": "b6e56a63-6a97-4dcd-8976-7e38e5284f7b"
      },
      "outputs": [
        {
          "output_type": "stream",
          "name": "stdout",
          "text": [
            "Found 416 files belonging to 2 classes.\n",
            "Epoch 1/20\n",
            "20/20 [==============================] - 5s 24ms/step - loss: 307.0169 - accuracy: 0.6719 - val_loss: 0.6599 - val_accuracy: 0.9479\n",
            "Epoch 2/20\n",
            "20/20 [==============================] - 0s 16ms/step - loss: 0.9373 - accuracy: 0.9219 - val_loss: 0.9256 - val_accuracy: 0.9167\n",
            "Epoch 3/20\n",
            "20/20 [==============================] - 0s 16ms/step - loss: 0.4847 - accuracy: 0.9656 - val_loss: 0.2618 - val_accuracy: 0.9688\n",
            "Epoch 4/20\n",
            "20/20 [==============================] - 0s 16ms/step - loss: 0.2921 - accuracy: 0.9750 - val_loss: 0.2091 - val_accuracy: 1.0000\n",
            "Epoch 5/20\n",
            "20/20 [==============================] - 0s 16ms/step - loss: 0.2528 - accuracy: 0.9875 - val_loss: 0.1964 - val_accuracy: 0.9896\n",
            "Epoch 6/20\n",
            "20/20 [==============================] - 0s 16ms/step - loss: 0.1883 - accuracy: 0.9875 - val_loss: 0.1655 - val_accuracy: 0.9896\n",
            "Epoch 7/20\n",
            "20/20 [==============================] - 0s 16ms/step - loss: 0.1604 - accuracy: 0.9906 - val_loss: 0.1569 - val_accuracy: 1.0000\n",
            "Epoch 8/20\n",
            "20/20 [==============================] - 0s 16ms/step - loss: 0.1302 - accuracy: 0.9969 - val_loss: 0.1179 - val_accuracy: 1.0000\n",
            "Epoch 9/20\n",
            "20/20 [==============================] - 0s 17ms/step - loss: 0.1805 - accuracy: 0.9937 - val_loss: 0.1092 - val_accuracy: 1.0000\n",
            "Epoch 10/20\n",
            "20/20 [==============================] - 0s 16ms/step - loss: 0.0983 - accuracy: 1.0000 - val_loss: 0.1316 - val_accuracy: 0.9896\n",
            "Epoch 11/20\n",
            "20/20 [==============================] - 0s 19ms/step - loss: 0.1056 - accuracy: 0.9937 - val_loss: 0.0859 - val_accuracy: 0.9896\n",
            "Epoch 12/20\n",
            "20/20 [==============================] - 0s 16ms/step - loss: 0.0739 - accuracy: 1.0000 - val_loss: 0.0606 - val_accuracy: 1.0000\n",
            "Epoch 13/20\n",
            "20/20 [==============================] - 0s 18ms/step - loss: 0.0822 - accuracy: 0.9937 - val_loss: 0.0489 - val_accuracy: 1.0000\n",
            "Epoch 14/20\n",
            "20/20 [==============================] - 0s 16ms/step - loss: 0.0705 - accuracy: 0.9937 - val_loss: 0.0444 - val_accuracy: 1.0000\n",
            "Epoch 15/20\n",
            "20/20 [==============================] - 0s 16ms/step - loss: 0.0611 - accuracy: 0.9969 - val_loss: 0.0394 - val_accuracy: 1.0000\n",
            "Epoch 16/20\n",
            "20/20 [==============================] - 0s 16ms/step - loss: 0.0530 - accuracy: 0.9969 - val_loss: 0.0345 - val_accuracy: 1.0000\n",
            "Epoch 17/20\n",
            "20/20 [==============================] - 0s 16ms/step - loss: 0.0479 - accuracy: 0.9937 - val_loss: 0.0405 - val_accuracy: 1.0000\n",
            "Epoch 18/20\n",
            "20/20 [==============================] - 0s 16ms/step - loss: 0.0361 - accuracy: 0.9969 - val_loss: 0.0325 - val_accuracy: 1.0000\n",
            "Epoch 19/20\n",
            "20/20 [==============================] - 0s 16ms/step - loss: 0.0377 - accuracy: 0.9969 - val_loss: 0.0362 - val_accuracy: 1.0000\n",
            "Epoch 20/20\n",
            "20/20 [==============================] - 0s 16ms/step - loss: 0.0274 - accuracy: 1.0000 - val_loss: 0.0187 - val_accuracy: 1.0000\n"
          ]
        },
        {
          "output_type": "display_data",
          "data": {
            "text/plain": [
              "<Figure size 640x480 with 1 Axes>"
            ],
            "image/png": "[encoded data removed]"
          },
          "metadata": {}
        },
        {
          "output_type": "display_data",
          "data": {
            "text/plain": [
              "<Figure size 640x480 with 1 Axes>"
            ],
            "image/png": "[encoded data removed]"
          },
          "metadata": {}
        },
        {
          "output_type": "stream",
          "name": "stdout",
          "text": [
            "Model: \"sequential\"\n",
            "_________________________________________________________________\n",
            " Layer (type)                Output Shape              Param #   \n",
            "=================================================================\n",
            " conv2d (Conv2D)             (None, 148, 198, 32)      896       \n",
            "                                                                 \n",
            " max_pooling2d (MaxPooling2  (None, 74, 99, 32)        0         \n",
            " D)                                                              \n",
            "                                                                 \n",
            " conv2d_1 (Conv2D)           (None, 72, 97, 64)        18496     \n",
            "                                                                 \n",
            " max_pooling2d_1 (MaxPoolin  (None, 36, 48, 64)        0         \n",
            " g2D)                                                            \n",
            "                                                                 \n",
            " flatten (Flatten)           (None, 110592)            0         \n",
            "                                                                 \n",
            " dense (Dense)               (None, 128)               14155904  \n",
            "                                                                 \n",
            " dropout (Dropout)           (None, 128)               0         \n",
            "                                                                 \n",
            " dense_1 (Dense)             (None, 2)                 258       \n",
            "                                                                 \n",
            "=================================================================\n",
            "Total params: 14175554 (54.08 MB)\n",
            "Trainable params: 14175554 (54.08 MB)\n",
            "Non-trainable params: 0 (0.00 Byte)\n",
            "_________________________________________________________________\n"
          ]
        }
      ],
      "source": [
        "# TRY 2 with sparse_categorical_crossentropy\n",
        "\n",
        "import tensorflow as tf\n",
        "from tensorflow.keras import layers\n",
        "from sklearn.model_selection import train_test_split\n",
        "import matplotlib.pyplot as plt\n",
        "\n",
        "# Define the path to your dataset folder\n",
        "dataset_path = '/content/dataset'\n",
        "\n",
        "# Create a dataset using the image_dataset_from_directory function\n",
        "dataset = tf.keras.utils.image_dataset_from_directory(\n",
        "    dataset_path,\n",
        "    labels='inferred',\n",
        "    label_mode='int',  # Use 'int' for integer labels\n",
        "    batch_size=16,\n",
        "    color_mode=\"rgb\",\n",
        "    image_size=(150, 200),\n",
        "    # image_size=(600, 800),\n",
        "    shuffle=True,\n",
        "    seed=42,\n",
        ")\n",
        "\n",
        "# Split the dataset into training and validation sets\n",
        "train_size = int(0.8 * len(dataset))\n",
        "val_size = len(dataset) - train_size\n",
        "\n",
        "train_dataset = dataset.take(train_size)\n",
        "val_dataset = dataset.skip(train_size)\n",
        "\n",
        "# Define the model\n",
        "\n",
        "model = tf.keras.Sequential([\n",
        "    layers.InputLayer(input_shape=(150, 200, 3)),\n",
        "    layers.Conv2D(32, (3, 3), activation='relu'),\n",
        "    layers.MaxPooling2D((2, 2)),\n",
        "    layers.Conv2D(64, (3, 3), activation='relu'),\n",
        "    layers.MaxPooling2D((2, 2)),\n",
        "    layers.Flatten(),\n",
        "    layers.Dense(128, activation='relu'),\n",
        "    layers.Dropout(0.5),\n",
        "    layers.Dense(2, activation='softmax')\n",
        "])\n",
        "\n",
        "\n",
        "\n",
        "# Compile the model\n",
        "model.compile(optimizer='adam',\n",
        "              loss='sparse_categorical_crossentropy',  # Use sparse_categorical_crossentropy for integer labels\n",
        "              metrics=['accuracy'])\n",
        "\n",
        "\n",
        "# Train the model\n",
        "history = model.fit(train_dataset, validation_data=val_dataset, epochs=20)\n",
        "\n",
        "# Save the model\n",
        "\n",
        "model.save(\"/content/ObjectDetectorModel\")\n",
        "\n",
        "model_json = model.to_json()\n",
        "with open(\"/content/ObjectDetectorModel.json\", \"w\") as json_file:\n",
        "    json_file.write(model_json)\n",
        "\n",
        "# Save model weights\n",
        "model.save_weights(\"/content/ObjectDetectorWeights.h5\")\n",
        "\n",
        "\n",
        "\n",
        "# Plot the training and validation loss\n",
        "plt.plot(history.history['loss'], label='Training Loss')\n",
        "plt.plot(history.history['val_loss'], label='Validation Loss')\n",
        "plt.xlabel('Epochs')\n",
        "plt.ylabel('Loss')\n",
        "plt.legend()\n",
        "plt.show()\n",
        "\n",
        "# Plot the training and validation accuracy\n",
        "plt.plot(history.history['accuracy'], label='Training Accuracy')\n",
        "plt.plot(history.history['val_accuracy'], label='Validation Accuracy')\n",
        "plt.xlabel('Epochs')\n",
        "plt.ylabel('Accuracy')\n",
        "plt.legend()\n",
        "plt.show()\n",
        "\n",
        "model.summary()\n",
        "\n"
      ]
    },
    {
      "cell_type": "code",
      "execution_count": null,
      "metadata": {
        "colab": {
          "base_uri": "https://localhost:8080/"
        },
        "id": "Mu77i589B8lj",
        "outputId": "6cd99154-d542-4d50-e058-ce63e7db45ce"
      },
      "outputs": [
        {
          "output_type": "stream",
          "name": "stdout",
          "text": [
            "1/1 [==============================] - 0s 66ms/step\n",
            "Probability: 1.9817674e-14\n",
            "Object Detected\n"
          ]
        }
      ],
      "source": [
        "# INFERENCE BASE MODEL\n",
        "import tensorflow as tf\n",
        "from tensorflow.keras.preprocessing import image\n",
        "import numpy as np\n",
        "\n",
        "# Load the saved model\n",
        "loaded_model = tf.keras.models.load_model(\"/content/ObjectDetectorModel\")\n",
        "\n",
        "\n",
        "# Load an image for inference\n",
        "image_path = \"/content/object_yes.png\"  # Update with the path to your image\n",
        "# grayscale image\n",
        "# img = image.load_img(image_path, color_mode='grayscale', target_size=(600, 800))\n",
        "# img = image.load_img(image_path, color_mode='rgb', target_size=(600, 800))\n",
        "img = image.load_img(image_path, color_mode='rgb', target_size=(150, 200))\n",
        "img_array = image.img_to_array(img)\n",
        "img_array = np.expand_dims(img_array, axis=0)  # Add batch dimension\n",
        "\n",
        "\n",
        "# Perform inference\n",
        "probability = loaded_model.predict(img_array)[0, 0]\n",
        "print(\"Probability:\", probability)\n",
        "\n",
        "# Display the inference result\n",
        "if probability < 0.5:\n",
        "    print(\"Object Detected\")\n",
        "else:\n",
        "    print(\"No Object Detected\")"
      ]
    },
    {
      "cell_type": "code",
      "execution_count": null,
      "metadata": {
        "colab": {
          "base_uri": "https://localhost:8080/"
        },
        "id": "Wd5IQaY-S1bn",
        "outputId": "61722046-a42b-4d58-830c-f63c4bb8c094"
      },
      "outputs": [
        {
          "output_type": "stream",
          "name": "stdout",
          "text": [
            "Collecting tensorflow-model-optimization\n",
            "  Downloading tensorflow_model_optimization-0.7.5-py2.py3-none-any.whl (241 kB)\n",
            "\u001b[?25l     \u001b[90m━━━━━━━━━━━━━━━━━━━━━━━━━━━━━━━━━━━━━━━━\u001b[0m \u001b[32m0.0/241.2 kB\u001b[0m \u001b[31m?\u001b[0m eta \u001b[36m-:--:--\u001b[0m\r\u001b[2K     \u001b[91m━━━━━━━━━━━━━━━━━━━━━━━━━━━━━━━━\u001b[0m\u001b[90m╺\u001b[0m\u001b[90m━━━━━━━\u001b[0m \u001b[32m194.6/241.2 kB\u001b[0m \u001b[31m5.9 MB/s\u001b[0m eta \u001b[36m0:00:01\u001b[0m\r\u001b[2K     \u001b[90m━━━━━━━━━━━━━━━━━━━━━━━━━━━━━━━━━━━━━━━━\u001b[0m \u001b[32m241.2/241.2 kB\u001b[0m \u001b[31m5.6 MB/s\u001b[0m eta \u001b[36m0:00:00\u001b[0m\n",
            "\u001b[?25hRequirement already satisfied: absl-py~=1.2 in /usr/local/lib/python3.10/dist-packages (from tensorflow-model-optimization) (1.4.0)\n",
            "Requirement already satisfied: dm-tree~=0.1.1 in /usr/local/lib/python3.10/dist-packages (from tensorflow-model-optimization) (0.1.8)\n",
            "Requirement already satisfied: numpy~=1.23 in /usr/local/lib/python3.10/dist-packages (from tensorflow-model-optimization) (1.23.5)\n",
            "Requirement already satisfied: six~=1.14 in /usr/local/lib/python3.10/dist-packages (from tensorflow-model-optimization) (1.16.0)\n",
            "Installing collected packages: tensorflow-model-optimization\n",
            "Successfully installed tensorflow-model-optimization-0.7.5\n",
            "Requirement already satisfied: tensorflow_model_optimization in /usr/local/lib/python3.10/dist-packages (0.7.5)\n",
            "Requirement already satisfied: absl-py~=1.2 in /usr/local/lib/python3.10/dist-packages (from tensorflow_model_optimization) (1.4.0)\n",
            "Requirement already satisfied: dm-tree~=0.1.1 in /usr/local/lib/python3.10/dist-packages (from tensorflow_model_optimization) (0.1.8)\n",
            "Requirement already satisfied: numpy~=1.23 in /usr/local/lib/python3.10/dist-packages (from tensorflow_model_optimization) (1.23.5)\n",
            "Requirement already satisfied: six~=1.14 in /usr/local/lib/python3.10/dist-packages (from tensorflow_model_optimization) (1.16.0)\n"
          ]
        }
      ],
      "source": [
        "# MODEL OPTIMIZATION...\n",
        "!pip install tensorflow-model-optimization\n",
        "!pip install tensorflow_model_optimization"
      ]
    },
    {
      "cell_type": "code",
      "execution_count": null,
      "metadata": {
        "id": "jZviCpdfS5pe"
      },
      "outputs": [],
      "source": [
        "# QUANTIZE ONLY...\n",
        "from tensorflow.keras.models import load_model\n",
        "\n",
        "model = load_model('/content/ObjectDetectorModel')\n",
        "converter = tf.lite.TFLiteConverter.from_keras_model(model)\n",
        "converter.optimizations = [tf.lite.Optimize.DEFAULT]\n",
        "tflite_model = converter.convert()\n",
        "\n",
        "with open('ObjectDetector.tflite', 'wb') as f:\n",
        "  f.write(tflite_model)"
      ]
    },
    {
      "cell_type": "code",
      "execution_count": null,
      "metadata": {
        "colab": {
          "base_uri": "https://localhost:8080/"
        },
        "id": "v9UozjVZBgE4",
        "outputId": "2dcb6fde-dccf-4c10-c420-cbb59fea6a55"
      },
      "outputs": [
        {
          "output_type": "stream",
          "name": "stdout",
          "text": [
            "Probability 0: 1.0\n",
            "Probability 1: 0.0\n"
          ]
        }
      ],
      "source": [
        "# INFERENCE TFLITE\n",
        "import tensorflow as tf\n",
        "from tensorflow.keras.preprocessing import image\n",
        "import numpy as np\n",
        "\n",
        "# Load the saved model\n",
        "interpreter = tf.lite.Interpreter(model_path='/content/ObjectDetector.tflite')\n",
        "interpreter.allocate_tensors()\n",
        "\n",
        "# Load an image for inference\n",
        "image_path = \"/content/object_yes.png\"  # Update with the path to your image\n",
        "img = image.load_img(image_path, color_mode='rgb', target_size=(150, 200))\n",
        "# img = image.load_img(image_path, color_mode='rgb', target_size=(600, 800))\n",
        "img_array = image.img_to_array(img)\n",
        "# img_array = np.expand_dims(img_array, axis=0)  # Add batch dimension\n",
        "\n",
        "# Get input and output tensors.\n",
        "input_details = interpreter.get_input_details()[0]\n",
        "output_details = interpreter.get_output_details()[0]\n",
        "\n",
        "# Prepare the input data for the interpreter\n",
        "input_data = np.expand_dims(img_array, axis=0)  # Same as before\n",
        "# Run inference\n",
        "interpreter.set_tensor(input_details[\"index\"], input_data)\n",
        "interpreter.invoke()\n",
        "\n",
        "# output = interpreter.get_tensor(output_details[0]['index'])\n",
        "output_data = interpreter.get_tensor(output_details[\"index\"])[0]\n",
        "\n",
        "probability_0 = output_data[0]\n",
        "probability_1 = output_data[1]\n",
        "\n",
        "print(\"Probability 0:\", probability_0)\n",
        "print(\"Probability 1:\", probability_1)\n",
        "\n",
        "# Display the inference result\n",
        "# if probability < 0.98:\n",
        "#     print(\"No Object Detected\")\n",
        "# else:\n",
        "#     print(\"Object Dtected\")\n",
        "\n",
        "# object_no :\n",
        "# Probability 0: 0.9428185\n",
        "# Probability 1: 0.057181478\n",
        "\n",
        "# object_yes :\n",
        "# Probability 0: 1.0\n",
        "# Probability 1: 0.0\n",
        "\n"
      ]
    },
    {
      "cell_type": "code",
      "execution_count": null,
      "metadata": {
        "id": "icVknNsFxBRT"
      },
      "outputs": [],
      "source": [
        "!gzip /content/ObjectDetector.tflite"
      ]
    },
    {
      "cell_type": "code",
      "execution_count": null,
      "metadata": {
        "colab": {
          "base_uri": "https://localhost:8080/"
        },
        "id": "RLeOyMzF1Zgj",
        "outputId": "e572cbec-99ef-41e5-b8e2-a35115417b6d"
      },
      "outputs": [
        {
          "output_type": "stream",
          "name": "stdout",
          "text": [
            "/content/ObjectDetectorModel.json         0.00 MB\n",
            "/content/ObjectDetectorWeights.h5        56.72 MB\n",
            "/content/ObjectDetector.tflite.gz         9.09 MB\n"
          ]
        }
      ],
      "source": [
        "import os\n",
        "\n",
        "def get_file_size_mb(path):\n",
        "  \"\"\"\n",
        "  Returns and prints the size of a file in megabytes.\n",
        "\n",
        "  Args:\n",
        "      path: The path to the file.\n",
        "\n",
        "  Returns:\n",
        "      A string containing the path and size in MB.\n",
        "  \"\"\"\n",
        "  size_in_bytes = os.path.getsize(path)\n",
        "  size_in_mb = size_in_bytes / 1e6\n",
        "  print(f\"{path:40s} {size_in_mb:5.2f} MB\")\n",
        "\n",
        "\n",
        "get_file_size_mb(\"/content/ObjectDetectorModel.json\")\n",
        "get_file_size_mb(\"/content/ObjectDetectorWeights.h5\")\n",
        "get_file_size_mb(\"/content/ObjectDetector.tflite\")\n",
        "get_file_size_mb(\"/content/ObjectDetector.tflite.gz\")\n"
      ]
    }
  ],
  "metadata": {
    "accelerator": "GPU",
    "colab": {
      "machine_shape": "hm",
      "provenance": [],
      "gpuType": "V100",
      "authorship_tag": "ABX9TyPfV9y9CZcSGaxhahnjMSh7"
    },
    "kernelspec": {
      "display_name": "Python 3",
      "name": "python3"
    },
    "language_info": {
      "name": "python"
    }
  },
  "nbformat": 4,
  "nbformat_minor": 0
}